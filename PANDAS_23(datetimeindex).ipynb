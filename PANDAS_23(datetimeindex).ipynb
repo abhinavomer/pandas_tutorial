{
 "cells": [
  {
   "cell_type": "code",
   "execution_count": 2,
   "id": "05b08fad-69a1-4ab1-9c8e-705625de80b2",
   "metadata": {},
   "outputs": [],
   "source": [
    "import pandas as pd"
   ]
  },
  {
   "cell_type": "code",
   "execution_count": 3,
   "id": "7e70fee7-c6f6-4036-b116-1953888de7ff",
   "metadata": {},
   "outputs": [
    {
     "data": {
      "text/html": [
       "<div>\n",
       "<style scoped>\n",
       "    .dataframe tbody tr th:only-of-type {\n",
       "        vertical-align: middle;\n",
       "    }\n",
       "\n",
       "    .dataframe tbody tr th {\n",
       "        vertical-align: top;\n",
       "    }\n",
       "\n",
       "    .dataframe thead th {\n",
       "        text-align: right;\n",
       "    }\n",
       "</style>\n",
       "<table border=\"1\" class=\"dataframe\">\n",
       "  <thead>\n",
       "    <tr style=\"text-align: right;\">\n",
       "      <th></th>\n",
       "      <th>Genre</th>\n",
       "      <th>Year</th>\n",
       "      <th>Budget(M$)</th>\n",
       "      <th>Ratings %</th>\n",
       "      <th>Date</th>\n",
       "    </tr>\n",
       "  </thead>\n",
       "  <tbody>\n",
       "    <tr>\n",
       "      <th>0</th>\n",
       "      <td>Action</td>\n",
       "      <td>2008</td>\n",
       "      <td>28</td>\n",
       "      <td>48</td>\n",
       "      <td>01/07/19</td>\n",
       "    </tr>\n",
       "    <tr>\n",
       "      <th>1</th>\n",
       "      <td>Action</td>\n",
       "      <td>2008</td>\n",
       "      <td>200</td>\n",
       "      <td>63</td>\n",
       "      <td>02/07/19</td>\n",
       "    </tr>\n",
       "    <tr>\n",
       "      <th>2</th>\n",
       "      <td>Action</td>\n",
       "      <td>2008</td>\n",
       "      <td>32</td>\n",
       "      <td>57</td>\n",
       "      <td>03/07/19</td>\n",
       "    </tr>\n",
       "    <tr>\n",
       "      <th>3</th>\n",
       "      <td>Action</td>\n",
       "      <td>2010</td>\n",
       "      <td>20</td>\n",
       "      <td>52</td>\n",
       "      <td>04/07/19</td>\n",
       "    </tr>\n",
       "    <tr>\n",
       "      <th>4</th>\n",
       "      <td>Adventure</td>\n",
       "      <td>2009</td>\n",
       "      <td>18</td>\n",
       "      <td>84</td>\n",
       "      <td>05/07/19</td>\n",
       "    </tr>\n",
       "    <tr>\n",
       "      <th>5</th>\n",
       "      <td>Adventure</td>\n",
       "      <td>2010</td>\n",
       "      <td>105</td>\n",
       "      <td>44</td>\n",
       "      <td>06/07/19</td>\n",
       "    </tr>\n",
       "    <tr>\n",
       "      <th>6</th>\n",
       "      <td>Comedy</td>\n",
       "      <td>2010</td>\n",
       "      <td>20</td>\n",
       "      <td>70</td>\n",
       "      <td>07/07/19</td>\n",
       "    </tr>\n",
       "    <tr>\n",
       "      <th>7</th>\n",
       "      <td>Comedy</td>\n",
       "      <td>2008</td>\n",
       "      <td>8</td>\n",
       "      <td>81</td>\n",
       "      <td>08/07/19</td>\n",
       "    </tr>\n",
       "    <tr>\n",
       "      <th>8</th>\n",
       "      <td>Comedy</td>\n",
       "      <td>2009</td>\n",
       "      <td>30</td>\n",
       "      <td>71</td>\n",
       "      <td>09/07/19</td>\n",
       "    </tr>\n",
       "  </tbody>\n",
       "</table>\n",
       "</div>"
      ],
      "text/plain": [
       "       Genre  Year  Budget(M$)  Ratings %      Date\n",
       "0     Action  2008          28         48  01/07/19\n",
       "1     Action  2008         200         63  02/07/19\n",
       "2     Action  2008          32         57  03/07/19\n",
       "3     Action  2010          20         52  04/07/19\n",
       "4  Adventure  2009          18         84  05/07/19\n",
       "5  Adventure  2010         105         44  06/07/19\n",
       "6     Comedy  2010          20         70  07/07/19\n",
       "7     Comedy  2008           8         81  08/07/19\n",
       "8     Comedy  2009          30         71  09/07/19"
      ]
     },
     "execution_count": 3,
     "metadata": {},
     "output_type": "execute_result"
    }
   ],
   "source": [
    "df=pd.read_csv('movie_rating.csv')\n",
    "df"
   ]
  },
  {
   "cell_type": "code",
   "execution_count": 4,
   "id": "7f9f894c-6947-42e6-bc86-a89b585745e9",
   "metadata": {},
   "outputs": [
    {
     "data": {
      "text/plain": [
       "Genre         object\n",
       "Year           int64\n",
       "Budget(M$)     int64\n",
       "Ratings %      int64\n",
       "Date          object\n",
       "dtype: object"
      ]
     },
     "execution_count": 4,
     "metadata": {},
     "output_type": "execute_result"
    }
   ],
   "source": [
    "df.dtypes"
   ]
  },
  {
   "cell_type": "code",
   "execution_count": 5,
   "id": "f9df4754-23db-4e27-a31d-0f47de90eb55",
   "metadata": {},
   "outputs": [
    {
     "data": {
      "text/plain": [
       "pandas.core.series.Series"
      ]
     },
     "execution_count": 5,
     "metadata": {},
     "output_type": "execute_result"
    }
   ],
   "source": [
    "type(df.Date)"
   ]
  },
  {
   "cell_type": "code",
   "execution_count": 6,
   "id": "868c800d-9959-4770-abd0-7061ab440b6d",
   "metadata": {},
   "outputs": [
    {
     "data": {
      "text/plain": [
       "pandas.core.frame.DataFrame"
      ]
     },
     "execution_count": 6,
     "metadata": {},
     "output_type": "execute_result"
    }
   ],
   "source": [
    "type(df)"
   ]
  },
  {
   "cell_type": "code",
   "execution_count": 7,
   "id": "5093b620-6531-4f03-812a-b315ff2c294e",
   "metadata": {},
   "outputs": [
    {
     "data": {
      "text/plain": [
       "str"
      ]
     },
     "execution_count": 7,
     "metadata": {},
     "output_type": "execute_result"
    }
   ],
   "source": [
    "type(df.Date[0])"
   ]
  },
  {
   "cell_type": "code",
   "execution_count": 8,
   "id": "5adfcdcf-1991-44ba-b745-7d332574699b",
   "metadata": {},
   "outputs": [
    {
     "data": {
      "text/html": [
       "<div>\n",
       "<style scoped>\n",
       "    .dataframe tbody tr th:only-of-type {\n",
       "        vertical-align: middle;\n",
       "    }\n",
       "\n",
       "    .dataframe tbody tr th {\n",
       "        vertical-align: top;\n",
       "    }\n",
       "\n",
       "    .dataframe thead th {\n",
       "        text-align: right;\n",
       "    }\n",
       "</style>\n",
       "<table border=\"1\" class=\"dataframe\">\n",
       "  <thead>\n",
       "    <tr style=\"text-align: right;\">\n",
       "      <th></th>\n",
       "      <th>Genre</th>\n",
       "      <th>Year</th>\n",
       "      <th>Budget(M$)</th>\n",
       "      <th>Ratings %</th>\n",
       "      <th>Date</th>\n",
       "    </tr>\n",
       "  </thead>\n",
       "  <tbody>\n",
       "    <tr>\n",
       "      <th>0</th>\n",
       "      <td>Action</td>\n",
       "      <td>2008</td>\n",
       "      <td>28</td>\n",
       "      <td>48</td>\n",
       "      <td>2019-01-07</td>\n",
       "    </tr>\n",
       "    <tr>\n",
       "      <th>1</th>\n",
       "      <td>Action</td>\n",
       "      <td>2008</td>\n",
       "      <td>200</td>\n",
       "      <td>63</td>\n",
       "      <td>2019-02-07</td>\n",
       "    </tr>\n",
       "    <tr>\n",
       "      <th>2</th>\n",
       "      <td>Action</td>\n",
       "      <td>2008</td>\n",
       "      <td>32</td>\n",
       "      <td>57</td>\n",
       "      <td>2019-03-07</td>\n",
       "    </tr>\n",
       "    <tr>\n",
       "      <th>3</th>\n",
       "      <td>Action</td>\n",
       "      <td>2010</td>\n",
       "      <td>20</td>\n",
       "      <td>52</td>\n",
       "      <td>2019-04-07</td>\n",
       "    </tr>\n",
       "    <tr>\n",
       "      <th>4</th>\n",
       "      <td>Adventure</td>\n",
       "      <td>2009</td>\n",
       "      <td>18</td>\n",
       "      <td>84</td>\n",
       "      <td>2019-05-07</td>\n",
       "    </tr>\n",
       "    <tr>\n",
       "      <th>5</th>\n",
       "      <td>Adventure</td>\n",
       "      <td>2010</td>\n",
       "      <td>105</td>\n",
       "      <td>44</td>\n",
       "      <td>2019-06-07</td>\n",
       "    </tr>\n",
       "    <tr>\n",
       "      <th>6</th>\n",
       "      <td>Comedy</td>\n",
       "      <td>2010</td>\n",
       "      <td>20</td>\n",
       "      <td>70</td>\n",
       "      <td>2019-07-07</td>\n",
       "    </tr>\n",
       "    <tr>\n",
       "      <th>7</th>\n",
       "      <td>Comedy</td>\n",
       "      <td>2008</td>\n",
       "      <td>8</td>\n",
       "      <td>81</td>\n",
       "      <td>2019-08-07</td>\n",
       "    </tr>\n",
       "    <tr>\n",
       "      <th>8</th>\n",
       "      <td>Comedy</td>\n",
       "      <td>2009</td>\n",
       "      <td>30</td>\n",
       "      <td>71</td>\n",
       "      <td>2019-09-07</td>\n",
       "    </tr>\n",
       "  </tbody>\n",
       "</table>\n",
       "</div>"
      ],
      "text/plain": [
       "       Genre  Year  Budget(M$)  Ratings %       Date\n",
       "0     Action  2008          28         48 2019-01-07\n",
       "1     Action  2008         200         63 2019-02-07\n",
       "2     Action  2008          32         57 2019-03-07\n",
       "3     Action  2010          20         52 2019-04-07\n",
       "4  Adventure  2009          18         84 2019-05-07\n",
       "5  Adventure  2010         105         44 2019-06-07\n",
       "6     Comedy  2010          20         70 2019-07-07\n",
       "7     Comedy  2008           8         81 2019-08-07\n",
       "8     Comedy  2009          30         71 2019-09-07"
      ]
     },
     "execution_count": 8,
     "metadata": {},
     "output_type": "execute_result"
    }
   ],
   "source": [
    "df=pd.read_csv('movie_rating.csv',parse_dates=['Date'])\n",
    "df"
   ]
  },
  {
   "cell_type": "code",
   "execution_count": 10,
   "id": "2d9f69bb-f24b-4a09-9e38-9bc51b37faac",
   "metadata": {},
   "outputs": [
    {
     "data": {
      "text/plain": [
       "Genre                 object\n",
       "Year                   int64\n",
       "Budget(M$)             int64\n",
       "Ratings %              int64\n",
       "Date          datetime64[ns]\n",
       "dtype: object"
      ]
     },
     "execution_count": 10,
     "metadata": {},
     "output_type": "execute_result"
    }
   ],
   "source": [
    "df.dtypes"
   ]
  },
  {
   "cell_type": "code",
   "execution_count": 11,
   "id": "67d477d0-91c2-4d0a-a5fd-1f2f7e856901",
   "metadata": {},
   "outputs": [
    {
     "data": {
      "text/plain": [
       "pandas._libs.tslibs.timestamps.Timestamp"
      ]
     },
     "execution_count": 11,
     "metadata": {},
     "output_type": "execute_result"
    }
   ],
   "source": [
    "type(df.Date[0])"
   ]
  },
  {
   "cell_type": "code",
   "execution_count": null,
   "id": "a65673bc-35bc-4583-9097-22fc205db6cb",
   "metadata": {},
   "outputs": [],
   "source": []
  }
 ],
 "metadata": {
  "kernelspec": {
   "display_name": "Python 3 (ipykernel)",
   "language": "python",
   "name": "python3"
  },
  "language_info": {
   "codemirror_mode": {
    "name": "ipython",
    "version": 3
   },
   "file_extension": ".py",
   "mimetype": "text/x-python",
   "name": "python",
   "nbconvert_exporter": "python",
   "pygments_lexer": "ipython3",
   "version": "3.10.7"
  }
 },
 "nbformat": 4,
 "nbformat_minor": 5
}
